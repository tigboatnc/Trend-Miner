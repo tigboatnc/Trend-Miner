{
 "cells": [
  {
   "cell_type": "code",
   "execution_count": 89,
   "id": "ef9f2343",
   "metadata": {},
   "outputs": [],
   "source": [
    "# Imports \n",
    "import io\n",
    "import os\n",
    "from google.cloud import vision\n",
    "import google.auth\n",
    "from google.oauth2 import service_account\n",
    "import cv2\n",
    "import numpy as np \n",
    "\n",
    "# image path \n",
    "path = './test/test2.jpg'\n",
    "\n",
    "# Image Load \n",
    "image = cv2.imread(path)"
   ]
  },
  {
   "cell_type": "code",
   "execution_count": 90,
   "id": "7f18c8ac",
   "metadata": {},
   "outputs": [
    {
     "data": {
      "text/plain": [
       "True"
      ]
     },
     "execution_count": 90,
     "metadata": {},
     "output_type": "execute_result"
    }
   ],
   "source": [
    "inputImage = cv2.cvtColor(image,cv2.COLOR_BGR2RGB)\n",
    "cv2.imwrite('cloudInput.jpg',inputImage)"
   ]
  },
  {
   "cell_type": "code",
   "execution_count": 91,
   "id": "0a1a92a6",
   "metadata": {},
   "outputs": [],
   "source": [
    "os.environ['GOOGLE_APPLICATION_CREDENTIALS'] = '/mnt/c/Users/Samarth Negi/Desktop/engine/documentParser/secret/documentParserSecret.json'\n",
    "\n",
    "client = vision.ImageAnnotatorClient()\n",
    "\n",
    "with io.open('./cloudInput.jpg', 'rb') as image_file:\n",
    "    content = image_file.read()\n",
    "    \n",
    "imageCloud = vision.Image(content=content)\n",
    "response = client.document_text_detection(image=imageCloud)"
   ]
  },
  {
   "cell_type": "code",
   "execution_count": 92,
   "id": "78b66a1f",
   "metadata": {},
   "outputs": [],
   "source": [
    "\n",
    "\n",
    "corpus = []\n",
    "for page in response.full_text_annotation.pages:\n",
    "    for block in page.blocks:\n",
    "        pass\n",
    "#         print('\\nBlock confidence: {}\\n'.format(block.confidence))\n",
    "\n",
    "        for paragraph in block.paragraphs:\n",
    "#             print('Paragraph confidence: {}'.format(\n",
    "#                 paragraph.confidence))\n",
    "            pass\n",
    "\n",
    "            for word in paragraph.words:\n",
    "                word_text = ''.join([\n",
    "                    symbol.text for symbol in word.symbols\n",
    "                ])\n",
    "#                 print('Word text: {} (confidence: {})'.format(\n",
    "#                     word_text, word.confidence))\n",
    "                pass\n",
    "                corpus.append(word_text)\n",
    "\n",
    "                for symbol in word.symbols:\n",
    "#                     print('\\tSymbol: {} (confidence: {})'.format(\n",
    "#                         symbol.text, symbol.confidence))\n",
    "                    pass"
   ]
  },
  {
   "cell_type": "code",
   "execution_count": null,
   "id": "fd046574",
   "metadata": {},
   "outputs": [],
   "source": []
  },
  {
   "cell_type": "code",
   "execution_count": 123,
   "id": "b9069876",
   "metadata": {},
   "outputs": [],
   "source": []
  },
  {
   "cell_type": "code",
   "execution_count": 124,
   "id": "e98d5b8a",
   "metadata": {},
   "outputs": [
    {
     "data": {
      "text/plain": [
       "True"
      ]
     },
     "execution_count": 124,
     "metadata": {},
     "output_type": "execute_result"
    }
   ],
   "source": [
    "checkAadhar(response)"
   ]
  },
  {
   "cell_type": "code",
   "execution_count": 110,
   "id": "489abd5a",
   "metadata": {},
   "outputs": [],
   "source": []
  },
  {
   "cell_type": "code",
   "execution_count": 112,
   "id": "f6a35968",
   "metadata": {},
   "outputs": [],
   "source": []
  },
  {
   "cell_type": "code",
   "execution_count": null,
   "id": "fe8a8a2f",
   "metadata": {},
   "outputs": [],
   "source": []
  }
 ],
 "metadata": {
  "kernelspec": {
   "display_name": "Python 3 (ipykernel)",
   "language": "python",
   "name": "python3"
  },
  "language_info": {
   "codemirror_mode": {
    "name": "ipython",
    "version": 3
   },
   "file_extension": ".py",
   "mimetype": "text/x-python",
   "name": "python",
   "nbconvert_exporter": "python",
   "pygments_lexer": "ipython3",
   "version": "3.8.13"
  }
 },
 "nbformat": 4,
 "nbformat_minor": 5
}
