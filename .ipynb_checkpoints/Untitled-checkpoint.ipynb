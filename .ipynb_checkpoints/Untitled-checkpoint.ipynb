{
 "cells": [
  {
   "cell_type": "code",
   "execution_count": 89,
   "id": "a358b1c4",
   "metadata": {},
   "outputs": [],
   "source": [
    "# Imports \n",
    "import io\n",
    "import os\n",
    "from google.cloud import vision\n",
    "import google.auth\n",
    "from google.oauth2 import service_account\n",
    "import cv2\n",
    "import numpy as np \n",
    "\n",
    "# image path \n",
    "path = './test/test2.jpg'\n",
    "\n",
    "# Image Load \n",
    "image = cv2.imread(path)"
   ]
  },
  {
   "cell_type": "code",
   "execution_count": 90,
   "id": "c75165a6",
   "metadata": {},
   "outputs": [
    {
     "data": {
      "text/plain": [
       "True"
      ]
     },
     "execution_count": 90,
     "metadata": {},
     "output_type": "execute_result"
    }
   ],
   "source": [
    "inputImage = cv2.cvtColor(image,cv2.COLOR_BGR2RGB)\n",
    "cv2.imwrite('cloudInput.jpg',inputImage)"
   ]
  },
  {
   "cell_type": "code",
   "execution_count": 91,
   "id": "2fbaaf6f",
   "metadata": {},
   "outputs": [],
   "source": [
    "os.environ['GOOGLE_APPLICATION_CREDENTIALS'] = '/mnt/c/Users/Samarth Negi/Desktop/engine/documentParser/secret/documentParserSecret.json'\n",
    "\n",
    "client = vision.ImageAnnotatorClient()\n",
    "\n",
    "with io.open('./cloudInput.jpg', 'rb') as image_file:\n",
    "    content = image_file.read()\n",
    "    \n",
    "imageCloud = vision.Image(content=content)\n",
    "response = client.document_text_detection(image=imageCloud)"
   ]
  },
  {
   "cell_type": "code",
   "execution_count": 92,
   "id": "3ede4c5b",
   "metadata": {},
   "outputs": [],
   "source": [
    "\n",
    "\n",
    "corpus = []\n",
    "for page in response.full_text_annotation.pages:\n",
    "    for block in page.blocks:\n",
    "        pass\n",
    "#         print('\\nBlock confidence: {}\\n'.format(block.confidence))\n",
    "\n",
    "        for paragraph in block.paragraphs:\n",
    "#             print('Paragraph confidence: {}'.format(\n",
    "#                 paragraph.confidence))\n",
    "            pass\n",
    "\n",
    "            for word in paragraph.words:\n",
    "                word_text = ''.join([\n",
    "                    symbol.text for symbol in word.symbols\n",
    "                ])\n",
    "#                 print('Word text: {} (confidence: {})'.format(\n",
    "#                     word_text, word.confidence))\n",
    "                pass\n",
    "                corpus.append(word_text)\n",
    "\n",
    "                for symbol in word.symbols:\n",
    "#                     print('\\tSymbol: {} (confidence: {})'.format(\n",
    "#                         symbol.text, symbol.confidence))\n",
    "                    pass"
   ]
  },
  {
   "cell_type": "code",
   "execution_count": null,
   "id": "0b837e60",
   "metadata": {},
   "outputs": [],
   "source": []
  },
  {
   "cell_type": "code",
   "execution_count": 94,
   "id": "7358e5d9",
   "metadata": {},
   "outputs": [],
   "source": [
    "\n",
    "# def checkPassport(response):\n",
    "corpus = []\n",
    "for page in response.full_text_annotation.pages:\n",
    "    for block in page.blocks:\n",
    "        for paragraph in block.paragraphs:\n",
    "            for word in paragraph.words:\n",
    "                word_text = ''.join([symbol.text for symbol in word.symbols])\n",
    "                corpus.append(word_text)\n",
    "\n",
    "corpus = [x.lower() for x in corpus]\n",
    "\n",
    "tests = 0 \n",
    "\n",
    "if 'nationality' in corpus:\n",
    "    tests = tests + 1 \n",
    "if 'passport' in corpus:\n",
    "    tests = tests + 1 \n",
    "if 'ind' in corpus:\n",
    "    tests = tests + 1 \n",
    "\n",
    "joined = ''.join(corpus)\n",
    "lessThan = joined.count('<')\n",
    "\n",
    "if lessThan > 10:\n",
    "    tests = tests + 3 \n",
    "\n",
    "# if tests > 3 :\n",
    "#     return True\n",
    "# else:\n",
    "#     return False\n"
   ]
  },
  {
   "cell_type": "code",
   "execution_count": 96,
   "id": "de39ad9c",
   "metadata": {},
   "outputs": [
    {
     "data": {
      "text/plain": [
       "True"
      ]
     },
     "execution_count": 96,
     "metadata": {},
     "output_type": "execute_result"
    }
   ],
   "source": [
    "'आधार' in corpus"
   ]
  },
  {
   "cell_type": "code",
   "execution_count": 110,
   "id": "4e608e78",
   "metadata": {},
   "outputs": [],
   "source": [
    "globs = [] \n",
    "trig = 0 \n",
    "current_glob = []\n",
    "for ind,snap in enumerate(corpus) : \n",
    "    if snap.isnumeric():\n",
    "        if len(snap)==4:\n",
    "            globs.append([snap,corpus[ind+1],corpus[ind+2]])\n",
    "\n",
    "regex = (\"^[2-9]{1}[0-9]{3}\\\\\" +\"s[0-9]{4}\\\\s[0-9]{4}$\")\n",
    "for glob in globs:\n",
    "    joined = ' '.join(glob)\n",
    "    if(re.search(p, str)):\n",
    "        return True\n",
    "    else:\n",
    "        pass\n",
    "return False"
   ]
  },
  {
   "cell_type": "code",
   "execution_count": 112,
   "id": "ceba2e79",
   "metadata": {},
   "outputs": [],
   "source": []
  },
  {
   "cell_type": "code",
   "execution_count": null,
   "id": "bd12ab93",
   "metadata": {},
   "outputs": [],
   "source": []
  }
 ],
 "metadata": {
  "kernelspec": {
   "display_name": "Python 3 (ipykernel)",
   "language": "python",
   "name": "python3"
  },
  "language_info": {
   "codemirror_mode": {
    "name": "ipython",
    "version": 3
   },
   "file_extension": ".py",
   "mimetype": "text/x-python",
   "name": "python",
   "nbconvert_exporter": "python",
   "pygments_lexer": "ipython3",
   "version": "3.8.13"
  }
 },
 "nbformat": 4,
 "nbformat_minor": 5
}
